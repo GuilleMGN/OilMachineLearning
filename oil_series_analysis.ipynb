{
 "cells": [
  {
   "cell_type": "code",
   "execution_count": 1,
   "metadata": {},
   "outputs": [],
   "source": [
    "import numpy as np\n",
    "import pandas as pd\n",
    "from pathlib import Path\n",
    "%matplotlib inline\n",
    "import datetime as dt\n",
    "from dotenv import load_dotenv\n",
    "import yfinance as yf\n",
    "from pandas_datareader import data as pdr\n",
    "\n",
    "import warnings\n",
    "warnings.simplefilter(action='ignore', category=Warning)\n",
    "\n",
    "##import hvplot.pandas\n",
    "##import holoviz\n",
    "##import os, holoviews as hv\n",
    "##os.environ['HV_DOC_HTML'] = 'true'"
   ]
  },
  {
   "cell_type": "markdown",
   "metadata": {},
   "source": [
    "# Data Collection - Oil Prices (in USD) data.\n",
    "In this notebook, we will load historical Oil data and apply time series analysis and modeling to determine whether there is any predictable behavior."
   ]
  },
  {
   "cell_type": "code",
   "execution_count": 2,
   "metadata": {},
   "outputs": [],
   "source": [
    "# Fetch oil data from Yahoo Finance\n",
    "oil = yf.Ticker(\"CL=F\")\n",
    "\n",
    "# get stock info\n",
    "oil.info\n",
    "\n",
    "# get historical market data\n",
    "df = oil.history(period=\"max\")"
   ]
  },
  {
   "cell_type": "code",
   "execution_count": 3,
   "metadata": {},
   "outputs": [
    {
     "data": {
      "text/html": [
       "<div>\n",
       "<style scoped>\n",
       "    .dataframe tbody tr th:only-of-type {\n",
       "        vertical-align: middle;\n",
       "    }\n",
       "\n",
       "    .dataframe tbody tr th {\n",
       "        vertical-align: top;\n",
       "    }\n",
       "\n",
       "    .dataframe thead th {\n",
       "        text-align: right;\n",
       "    }\n",
       "</style>\n",
       "<table border=\"1\" class=\"dataframe\">\n",
       "  <thead>\n",
       "    <tr style=\"text-align: right;\">\n",
       "      <th></th>\n",
       "      <th>Close</th>\n",
       "      <th>Volume</th>\n",
       "      <th>Return</th>\n",
       "      <th>Lagged_Return</th>\n",
       "    </tr>\n",
       "    <tr>\n",
       "      <th>Date</th>\n",
       "      <th></th>\n",
       "      <th></th>\n",
       "      <th></th>\n",
       "      <th></th>\n",
       "    </tr>\n",
       "  </thead>\n",
       "  <tbody>\n",
       "    <tr>\n",
       "      <th>2000-08-25</th>\n",
       "      <td>32.049999</td>\n",
       "      <td>44601</td>\n",
       "      <td>1.327854</td>\n",
       "      <td>-1.310453</td>\n",
       "    </tr>\n",
       "    <tr>\n",
       "      <th>2000-08-28</th>\n",
       "      <td>32.869999</td>\n",
       "      <td>46770</td>\n",
       "      <td>2.558501</td>\n",
       "      <td>1.327854</td>\n",
       "    </tr>\n",
       "    <tr>\n",
       "      <th>2000-08-29</th>\n",
       "      <td>32.720001</td>\n",
       "      <td>49131</td>\n",
       "      <td>-0.456336</td>\n",
       "      <td>2.558501</td>\n",
       "    </tr>\n",
       "    <tr>\n",
       "      <th>2000-08-30</th>\n",
       "      <td>33.400002</td>\n",
       "      <td>79214</td>\n",
       "      <td>2.078240</td>\n",
       "      <td>-0.456336</td>\n",
       "    </tr>\n",
       "    <tr>\n",
       "      <th>2000-08-31</th>\n",
       "      <td>33.099998</td>\n",
       "      <td>56895</td>\n",
       "      <td>-0.898213</td>\n",
       "      <td>2.078240</td>\n",
       "    </tr>\n",
       "  </tbody>\n",
       "</table>\n",
       "</div>"
      ],
      "text/plain": [
       "                Close  Volume    Return  Lagged_Return\n",
       "Date                                                  \n",
       "2000-08-25  32.049999   44601  1.327854      -1.310453\n",
       "2000-08-28  32.869999   46770  2.558501       1.327854\n",
       "2000-08-29  32.720001   49131 -0.456336       2.558501\n",
       "2000-08-30  33.400002   79214  2.078240      -0.456336\n",
       "2000-08-31  33.099998   56895 -0.898213       2.078240"
      ]
     },
     "execution_count": 3,
     "metadata": {},
     "output_type": "execute_result"
    }
   ],
   "source": [
    "# Drop the column not needed and assifn to a datafram\n",
    "historical_df = df.drop(['Open',\"High\",'Low','Dividends','Stock Splits'],axis=1)\n",
    "\n",
    "# Add a Returns Column to the dataframe\n",
    "historical_df[\"Return\"] = historical_df[\"Close\"].pct_change() * 100\n",
    "\n",
    "# Drop null values\n",
    "historical_df.dropna(inplace=True)\n",
    "\n",
    "# Create a lagged return using the shift function\n",
    "historical_df['Lagged_Return'] = historical_df[['Return']].shift()\n",
    "\n",
    "# Drop null values\n",
    "historical_df.dropna(inplace=True)\n",
    "\n",
    "historical_df.head()"
   ]
  },
  {
   "cell_type": "code",
   "execution_count": 4,
   "metadata": {},
   "outputs": [
    {
     "data": {
      "text/html": [
       "<div>\n",
       "<style scoped>\n",
       "    .dataframe tbody tr th:only-of-type {\n",
       "        vertical-align: middle;\n",
       "    }\n",
       "\n",
       "    .dataframe tbody tr th {\n",
       "        vertical-align: top;\n",
       "    }\n",
       "\n",
       "    .dataframe thead th {\n",
       "        text-align: right;\n",
       "    }\n",
       "</style>\n",
       "<table border=\"1\" class=\"dataframe\">\n",
       "  <thead>\n",
       "    <tr style=\"text-align: right;\">\n",
       "      <th></th>\n",
       "      <th>Close</th>\n",
       "      <th>Volume</th>\n",
       "      <th>Return</th>\n",
       "      <th>Lagged_Return</th>\n",
       "    </tr>\n",
       "    <tr>\n",
       "      <th>Date</th>\n",
       "      <th></th>\n",
       "      <th></th>\n",
       "      <th></th>\n",
       "      <th></th>\n",
       "    </tr>\n",
       "  </thead>\n",
       "  <tbody>\n",
       "    <tr>\n",
       "      <th>2022-03-03</th>\n",
       "      <td>107.669998</td>\n",
       "      <td>592031</td>\n",
       "      <td>-2.649187</td>\n",
       "      <td>6.952901</td>\n",
       "    </tr>\n",
       "    <tr>\n",
       "      <th>2022-03-04</th>\n",
       "      <td>115.680000</td>\n",
       "      <td>493875</td>\n",
       "      <td>7.439400</td>\n",
       "      <td>-2.649187</td>\n",
       "    </tr>\n",
       "    <tr>\n",
       "      <th>2022-03-07</th>\n",
       "      <td>119.400002</td>\n",
       "      <td>576022</td>\n",
       "      <td>3.215769</td>\n",
       "      <td>7.439400</td>\n",
       "    </tr>\n",
       "    <tr>\n",
       "      <th>2022-03-08</th>\n",
       "      <td>123.699997</td>\n",
       "      <td>576022</td>\n",
       "      <td>3.601336</td>\n",
       "      <td>3.215769</td>\n",
       "    </tr>\n",
       "    <tr>\n",
       "      <th>2022-03-09</th>\n",
       "      <td>110.769997</td>\n",
       "      <td>7042</td>\n",
       "      <td>-10.452709</td>\n",
       "      <td>3.601336</td>\n",
       "    </tr>\n",
       "  </tbody>\n",
       "</table>\n",
       "</div>"
      ],
      "text/plain": [
       "                 Close  Volume     Return  Lagged_Return\n",
       "Date                                                    \n",
       "2022-03-03  107.669998  592031  -2.649187       6.952901\n",
       "2022-03-04  115.680000  493875   7.439400      -2.649187\n",
       "2022-03-07  119.400002  576022   3.215769       7.439400\n",
       "2022-03-08  123.699997  576022   3.601336       3.215769\n",
       "2022-03-09  110.769997    7042 -10.452709       3.601336"
      ]
     },
     "execution_count": 4,
     "metadata": {},
     "output_type": "execute_result"
    }
   ],
   "source": [
    "historical_df.tail()"
   ]
  },
  {
   "cell_type": "markdown",
   "metadata": {},
   "source": [
    "## Initial Time-Series Plotting"
   ]
  },
  {
   "cell_type": "code",
   "execution_count": 5,
   "metadata": {},
   "outputs": [
    {
     "data": {
      "text/plain": [
       "<AxesSubplot:title={'center':'Oil Prices: August 2000 - March 2022'}, xlabel='Date'>"
      ]
     },
     "execution_count": 5,
     "metadata": {},
     "output_type": "execute_result"
    },
    {
     "data": {
      "image/png": "[encoded data removed]",
      "text/plain": [
       "<Figure size 432x288 with 1 Axes>"
      ]
     },
     "metadata": {
      "needs_background": "light"
     },
     "output_type": "display_data"
    }
   ],
   "source": [
    "# Plot the Oil Close prices\n",
    "historical_df.Close.plot(title=\"Oil Prices: August 2000 - March 2022\")"
   ]
  },
  {
   "cell_type": "code",
   "execution_count": 6,
   "metadata": {},
   "outputs": [],
   "source": [
    "##hv.extension('bokeh')\n",
    "##hv.Curve([1, 2, 3])"
   ]
  },
  {
   "cell_type": "code",
   "execution_count": 7,
   "metadata": {},
   "outputs": [
    {
     "data": {
      "text/plain": [
       "<AxesSubplot:title={'center':'Oil Returns: August 2000 - March 2022'}, xlabel='Date'>"
      ]
     },
     "execution_count": 7,
     "metadata": {},
     "output_type": "execute_result"
    },
    {
     "data": {
      "image/png": "[encoded data removed]",
      "text/plain": [
       "<Figure size 432x288 with 1 Axes>"
      ]
     },
     "metadata": {
      "needs_background": "light"
     },
     "output_type": "display_data"
    }
   ],
   "source": [
    "# Plot the Oil Returns\n",
    "historical_df.Return.plot(title=\"Oil Returns: August 2000 - March 2022\")"
   ]
  },
  {
   "cell_type": "markdown",
   "metadata": {},
   "source": [
    "The dip in oil rates in 2020 was an abnormality and hence we will utilize data until Dec 2019 for our anlaysis. "
   ]
  },
  {
   "cell_type": "code",
   "execution_count": 8,
   "metadata": {},
   "outputs": [],
   "source": [
    "# Slice the data so it is until Dec 2019\n",
    "historical_df = historical_df.loc[:'20191231']"
   ]
  },
  {
   "cell_type": "code",
   "execution_count": 9,
   "metadata": {},
   "outputs": [
    {
     "data": {
      "text/plain": [
       "<AxesSubplot:title={'center':'Oil Returns: August 2000 - December 2019'}, xlabel='Date'>"
      ]
     },
     "execution_count": 9,
     "metadata": {},
     "output_type": "execute_result"
    },
    {
     "data": {
      "image/png": "[encoded data removed]",
      "text/plain": [
       "<Figure size 432x288 with 1 Axes>"
      ]
     },
     "metadata": {
      "needs_background": "light"
     },
     "output_type": "display_data"
    }
   ],
   "source": [
    "# Plot the Oil Returns after dropping 2020\n",
    "historical_df.Return.plot(title=\"Oil Returns: August 2000 - December 2019\")"
   ]
  },
  {
   "cell_type": "markdown",
   "metadata": {},
   "source": [
    "---"
   ]
  },
  {
   "cell_type": "markdown",
   "metadata": {},
   "source": [
    "# Data Modelling "
   ]
  },
  {
   "cell_type": "markdown",
   "metadata": {},
   "source": [
    "# Data Pre-Processing\n",
    "\n",
    "Split the data into training and testing data based on date range such that 75% falls in training set and 25% fals in testing set.  "
   ]
  },
  {
   "cell_type": "code",
   "execution_count": 10,
   "metadata": {},
   "outputs": [
    {
     "data": {
      "text/html": [
       "<div>\n",
       "<style scoped>\n",
       "    .dataframe tbody tr th:only-of-type {\n",
       "        vertical-align: middle;\n",
       "    }\n",
       "\n",
       "    .dataframe tbody tr th {\n",
       "        vertical-align: top;\n",
       "    }\n",
       "\n",
       "    .dataframe thead th {\n",
       "        text-align: right;\n",
       "    }\n",
       "</style>\n",
       "<table border=\"1\" class=\"dataframe\">\n",
       "  <thead>\n",
       "    <tr style=\"text-align: right;\">\n",
       "      <th></th>\n",
       "      <th>Close</th>\n",
       "      <th>Volume</th>\n",
       "      <th>Return</th>\n",
       "      <th>Lagged_Return</th>\n",
       "    </tr>\n",
       "    <tr>\n",
       "      <th>Date</th>\n",
       "      <th></th>\n",
       "      <th></th>\n",
       "      <th></th>\n",
       "      <th></th>\n",
       "    </tr>\n",
       "  </thead>\n",
       "  <tbody>\n",
       "    <tr>\n",
       "      <th>2014-01-02</th>\n",
       "      <td>95.440002</td>\n",
       "      <td>251248</td>\n",
       "      <td>-3.027836</td>\n",
       "      <td>-0.876224</td>\n",
       "    </tr>\n",
       "    <tr>\n",
       "      <th>2014-01-03</th>\n",
       "      <td>93.959999</td>\n",
       "      <td>215522</td>\n",
       "      <td>-1.550716</td>\n",
       "      <td>-3.027836</td>\n",
       "    </tr>\n",
       "    <tr>\n",
       "      <th>2014-01-06</th>\n",
       "      <td>93.430000</td>\n",
       "      <td>189379</td>\n",
       "      <td>-0.564069</td>\n",
       "      <td>-1.550716</td>\n",
       "    </tr>\n",
       "    <tr>\n",
       "      <th>2014-01-07</th>\n",
       "      <td>93.669998</td>\n",
       "      <td>177182</td>\n",
       "      <td>0.256875</td>\n",
       "      <td>-0.564069</td>\n",
       "    </tr>\n",
       "    <tr>\n",
       "      <th>2014-01-08</th>\n",
       "      <td>92.330002</td>\n",
       "      <td>244855</td>\n",
       "      <td>-1.430550</td>\n",
       "      <td>0.256875</td>\n",
       "    </tr>\n",
       "    <tr>\n",
       "      <th>...</th>\n",
       "      <td>...</td>\n",
       "      <td>...</td>\n",
       "      <td>...</td>\n",
       "      <td>...</td>\n",
       "    </tr>\n",
       "    <tr>\n",
       "      <th>2019-12-24</th>\n",
       "      <td>61.110001</td>\n",
       "      <td>204535</td>\n",
       "      <td>0.974885</td>\n",
       "      <td>0.132366</td>\n",
       "    </tr>\n",
       "    <tr>\n",
       "      <th>2019-12-26</th>\n",
       "      <td>61.680000</td>\n",
       "      <td>265091</td>\n",
       "      <td>0.932744</td>\n",
       "      <td>0.974885</td>\n",
       "    </tr>\n",
       "    <tr>\n",
       "      <th>2019-12-27</th>\n",
       "      <td>61.720001</td>\n",
       "      <td>351899</td>\n",
       "      <td>0.064852</td>\n",
       "      <td>0.932744</td>\n",
       "    </tr>\n",
       "    <tr>\n",
       "      <th>2019-12-30</th>\n",
       "      <td>61.680000</td>\n",
       "      <td>427149</td>\n",
       "      <td>-0.064810</td>\n",
       "      <td>0.064852</td>\n",
       "    </tr>\n",
       "    <tr>\n",
       "      <th>2019-12-31</th>\n",
       "      <td>61.060001</td>\n",
       "      <td>494535</td>\n",
       "      <td>-1.005186</td>\n",
       "      <td>-0.064810</td>\n",
       "    </tr>\n",
       "  </tbody>\n",
       "</table>\n",
       "<p>1508 rows × 4 columns</p>\n",
       "</div>"
      ],
      "text/plain": [
       "                Close  Volume    Return  Lagged_Return\n",
       "Date                                                  \n",
       "2014-01-02  95.440002  251248 -3.027836      -0.876224\n",
       "2014-01-03  93.959999  215522 -1.550716      -3.027836\n",
       "2014-01-06  93.430000  189379 -0.564069      -1.550716\n",
       "2014-01-07  93.669998  177182  0.256875      -0.564069\n",
       "2014-01-08  92.330002  244855 -1.430550       0.256875\n",
       "...               ...     ...       ...            ...\n",
       "2019-12-24  61.110001  204535  0.974885       0.132366\n",
       "2019-12-26  61.680000  265091  0.932744       0.974885\n",
       "2019-12-27  61.720001  351899  0.064852       0.932744\n",
       "2019-12-30  61.680000  427149 -0.064810       0.064852\n",
       "2019-12-31  61.060001  494535 -1.005186      -0.064810\n",
       "\n",
       "[1508 rows x 4 columns]"
      ]
     },
     "execution_count": 10,
     "metadata": {},
     "output_type": "execute_result"
    }
   ],
   "source": [
    "# Create a train/test split for the dataset\n",
    "df_train = historical_df.loc['20000101':'20141231']\n",
    "df_test = historical_df.loc['20140101':'20191231'] \n",
    "df_test"
   ]
  },
  {
   "cell_type": "code",
   "execution_count": 11,
   "metadata": {},
   "outputs": [
    {
     "data": {
      "text/plain": [
       "pandas.core.frame.DataFrame"
      ]
     },
     "execution_count": 11,
     "metadata": {},
     "output_type": "execute_result"
    }
   ],
   "source": [
    "# Create four dataframes for the X y train and X y test\n",
    "X_train = df_train[\"Lagged_Return\"].to_frame()\n",
    "X_test = df_test[\"Lagged_Return\"].to_frame()\n",
    "\n",
    "y_train = df_train[\"Return\"]\n",
    "y_test = df_test[\"Return\"]\n",
    "\n",
    "type(X_train)\n",
    "#X_train.head()"
   ]
  },
  {
   "cell_type": "code",
   "execution_count": 12,
   "metadata": {},
   "outputs": [],
   "source": [
    "# No need to scale as their is only 1 feature for now\n",
    "# Create the StandardScaler instance\n",
    "##from sklearn.preprocessing import StandardScaler\n",
    "##scaler = StandardScaler()\n",
    "\n",
    "# Fit the Standard Scaler with the training data\n",
    "# When fitting scaling functions, only train on the training dataset\n",
    "##scaler.fit(X_train)\n",
    "\n",
    "# Scale the features training and testing sets\n",
    "##X_train = scaler.transform(X_train)\n",
    "##X_test = scaler.transform(X_test)\n",
    "\n",
    "# Fit the MinMaxScaler object with the training target data y_train\n",
    "##scaler.fit(y_train)"
   ]
  },
  {
   "cell_type": "markdown",
   "metadata": {},
   "source": [
    "# Model 1: Linear Regression Model"
   ]
  },
  {
   "cell_type": "code",
   "execution_count": 13,
   "metadata": {},
   "outputs": [
    {
     "data": {
      "text/plain": [
       "LinearRegression()"
      ]
     },
     "execution_count": 13,
     "metadata": {},
     "output_type": "execute_result"
    }
   ],
   "source": [
    "# Create a Linear Regression model and fit it to the training data\n",
    "from sklearn.linear_model import LinearRegression\n",
    "\n",
    "# Fit a SKLearn linear regression using  just the training set (X_train, Y_train):\n",
    "model = LinearRegression()\n",
    "model.fit(X_train, y_train)"
   ]
  },
  {
   "cell_type": "markdown",
   "metadata": {},
   "source": [
    "## Make predictions using test data"
   ]
  },
  {
   "cell_type": "code",
   "execution_count": 14,
   "metadata": {},
   "outputs": [],
   "source": [
    "# Make a prediction of \"y\" values using just the test dataset\n",
    "predictions = model.predict(X_test)"
   ]
  },
  {
   "cell_type": "code",
   "execution_count": 15,
   "metadata": {},
   "outputs": [
    {
     "data": {
      "text/html": [
       "<div>\n",
       "<style scoped>\n",
       "    .dataframe tbody tr th:only-of-type {\n",
       "        vertical-align: middle;\n",
       "    }\n",
       "\n",
       "    .dataframe tbody tr th {\n",
       "        vertical-align: top;\n",
       "    }\n",
       "\n",
       "    .dataframe thead th {\n",
       "        text-align: right;\n",
       "    }\n",
       "</style>\n",
       "<table border=\"1\" class=\"dataframe\">\n",
       "  <thead>\n",
       "    <tr style=\"text-align: right;\">\n",
       "      <th></th>\n",
       "      <th>Return</th>\n",
       "      <th>Predicted Return</th>\n",
       "    </tr>\n",
       "  </thead>\n",
       "  <tbody>\n",
       "    <tr>\n",
       "      <th>count</th>\n",
       "      <td>1508.000000</td>\n",
       "      <td>1508.000000</td>\n",
       "    </tr>\n",
       "    <tr>\n",
       "      <th>mean</th>\n",
       "      <td>-0.005913</td>\n",
       "      <td>0.043943</td>\n",
       "    </tr>\n",
       "    <tr>\n",
       "      <th>std</th>\n",
       "      <td>2.273072</td>\n",
       "      <td>0.083583</td>\n",
       "    </tr>\n",
       "    <tr>\n",
       "      <th>min</th>\n",
       "      <td>-10.232054</td>\n",
       "      <td>-0.495943</td>\n",
       "    </tr>\n",
       "    <tr>\n",
       "      <th>25%</th>\n",
       "      <td>-1.206040</td>\n",
       "      <td>0.000278</td>\n",
       "    </tr>\n",
       "    <tr>\n",
       "      <th>50%</th>\n",
       "      <td>0.050069</td>\n",
       "      <td>0.041888</td>\n",
       "    </tr>\n",
       "    <tr>\n",
       "      <th>75%</th>\n",
       "      <td>1.181638</td>\n",
       "      <td>0.088077</td>\n",
       "    </tr>\n",
       "    <tr>\n",
       "      <th>max</th>\n",
       "      <td>14.676396</td>\n",
       "      <td>0.419976</td>\n",
       "    </tr>\n",
       "  </tbody>\n",
       "</table>\n",
       "</div>"
      ],
      "text/plain": [
       "            Return  Predicted Return\n",
       "count  1508.000000       1508.000000\n",
       "mean     -0.005913          0.043943\n",
       "std       2.273072          0.083583\n",
       "min     -10.232054         -0.495943\n",
       "25%      -1.206040          0.000278\n",
       "50%       0.050069          0.041888\n",
       "75%       1.181638          0.088077\n",
       "max      14.676396          0.419976"
      ]
     },
     "execution_count": 15,
     "metadata": {},
     "output_type": "execute_result"
    }
   ],
   "source": [
    "# Assemble actual y data (Y_test) with predicted y data (from just above) into two columns in a dataframe:\n",
    "Results = y_test.to_frame()\n",
    "Results[\"Predicted Return\"] = predictions\n",
    "\n",
    "Results.describe()"
   ]
  },
  {
   "cell_type": "code",
   "execution_count": 16,
   "metadata": {},
   "outputs": [
    {
     "data": {
      "text/plain": [
       "<AxesSubplot:title={'center':'Predicted Return vs Actual Return'}, xlabel='Date'>"
      ]
     },
     "execution_count": 16,
     "metadata": {},
     "output_type": "execute_result"
    },
    {
     "data": {
      "image/png": "[encoded data removed]",
      "text/plain": [
       "<Figure size 432x288 with 1 Axes>"
      ]
     },
     "metadata": {
      "needs_background": "light"
     },
     "output_type": "display_data"
    }
   ],
   "source": [
    "# Plot the predictions vs the true values\n",
    "Results.plot(title = \"Predicted Return vs Actual Return\")\n",
    "##Modify to use hvplot so it can be zoomed in"
   ]
  },
  {
   "cell_type": "markdown",
   "metadata": {},
   "source": [
    "## In-Sample Performance for Linear Regression\n",
    "\n",
    "Evaluate the model using in-sample data (X_train and y_train)"
   ]
  },
  {
   "cell_type": "code",
   "execution_count": 17,
   "metadata": {},
   "outputs": [
    {
     "name": "stdout",
     "output_type": "stream",
     "text": [
      "In-sample Root Mean Squared Error (RMSE): 2.35097264822661\n"
     ]
    }
   ],
   "source": [
    "from sklearn.metrics import mean_squared_error\n",
    "# Calculate the mean_squared_error (MSE) on actual versus predicted test \"y\" \n",
    "\n",
    "# Construct a dataframe using just the \"y\" training data:\n",
    "in_sample_results = y_train.to_frame()\n",
    "\n",
    "# Add a column of \"in-sample\" predictions to that dataframe:  \n",
    "in_sample_results[\"In-sample Predictions\"] = model.predict(X_train)\n",
    "\n",
    "# Calculate in-sample mean_squared_error (for comparison to out-of-sample)\n",
    "mse = mean_squared_error(\n",
    "    in_sample_results[\"Return\"],\n",
    "    in_sample_results[\"In-sample Predictions\"]\n",
    ")\n",
    "\n",
    "# Calculate in-sample root mean_squared_error (for comparison to out-of-sample)\n",
    "in_sample_rmse = np.sqrt(mse)\n",
    "print(f\"In-sample Root Mean Squared Error (RMSE): {in_sample_rmse}\")"
   ]
  },
  {
   "cell_type": "markdown",
   "metadata": {},
   "source": [
    "## Out-of-Sample Performance\n",
    "\n",
    "Evaluate the model using \"out-of-sample\" data (X_test and y_test)"
   ]
  },
  {
   "cell_type": "code",
   "execution_count": 20,
   "metadata": {},
   "outputs": [
    {
     "name": "stdout",
     "output_type": "stream",
     "text": [
      "Out-of-Sample Root Mean Squared Error (RMSE): 2.2667143228932956\n"
     ]
    }
   ],
   "source": [
    "# Construct a dataframe using just the \"y\" test data:\n",
    "out_sample_results = y_test.to_frame()\n",
    "\n",
    "# Add a column of \"in-sample\" predictions to that dataframe:  \n",
    "out_sample_results[\"Out-of-Sample Predictions\"] = model.predict(X_test)\n",
    "\n",
    "# Calculate out_of-sample mean_squared_error\n",
    "mse = mean_squared_error(\n",
    "    out_sample_results[\"Return\"],\n",
    "    out_sample_results[\"Out-of-Sample Predictions\"]\n",
    ")\n",
    "\n",
    "# Using that mean-squared-error, calculate the root-mean-squared error (RMSE):\n",
    "out_sample_rmse = np.sqrt(mse)\n",
    "print(f\"Out-of-Sample Root Mean Squared Error (RMSE): {out_sample_rmse}\")"
   ]
  },
  {
   "cell_type": "markdown",
   "metadata": {},
   "source": [
    "## Rolling Out-of-Sample Performance\n",
    "\n",
    "Evaluate the model using rolling Out-of-Sample data (X_test and y_test)\n"
   ]
  },
  {
   "cell_type": "code",
   "execution_count": null,
   "metadata": {},
   "outputs": [],
   "source": [
    "# Split the index into weekly periods\n",
    "weeks = historical_df.index.to_period(\"w\").unique()\n",
    "print(weeks[0])"
   ]
  },
  {
   "cell_type": "code",
   "execution_count": null,
   "metadata": {},
   "outputs": [],
   "source": [
    "# Declare the training window of 12 weeks\n",
    "# Define the timeframe of rolling windows\n",
    "training_window = 12\n",
    "timeframe = len(weeks) - training_window - 1\n",
    "print(timeframe)"
   ]
  },
  {
   "cell_type": "code",
   "execution_count": null,
   "metadata": {},
   "outputs": [],
   "source": [
    "# Construct empty placeholder dataframes.\n",
    "# (During each iteration of the loop, we'll append that week\"s predictions to this DataFrame)\n",
    "all_predictions = pd.DataFrame(columns=[\"Out-of-Sample Predictions\"])\n",
    "all_actuals = pd.DataFrame(columns=[\"Actual Returns\"])"
   ]
  },
  {
   "cell_type": "code",
   "execution_count": null,
   "metadata": {},
   "outputs": [],
   "source": [
    "# During rolling iteration, split into train and test sets.\n",
    "# Use linear regression to make out-of-sample predictions.\n",
    "# Append the results to external dataframes.\n",
    "for i in range(0, timeframe):\n",
    "    \n",
    "    # Beginning of training window\n",
    "    start_of_training_period = weeks[i].start_time.strftime(format=\"%Y-%m-%d\")\n",
    "    \n",
    "    # End of training window\n",
    "    end_of_training_period = weeks[training_window+i].end_time.strftime(format=\"%Y-%m-%d\")\n",
    "\n",
    "    # Window of test-window data\n",
    "    test_week = weeks[training_window + i + 1]\n",
    "    \n",
    "    # String of testing window\n",
    "    start_of_test_week  = test_week.start_time.strftime(format=\"%Y-%m-%d\")\n",
    "    end_of_test_week = test_week.end_time.strftime(format=\"%Y-%m-%d\")\n",
    "    \n",
    "    train = historical_df.loc[start_of_training_period:end_of_training_period]\n",
    "    test = historical_df.loc[start_of_test_week:end_of_test_week]\n",
    "    \n",
    "    # Create new dataframes:\n",
    "    X_train = train[\"Lagged_Return\"].to_frame()\n",
    "    y_train = train[\"Return\"]\n",
    "    X_test = test[\"Lagged_Return\"].to_frame()\n",
    "    y_test = test[\"Return\"]\n",
    "\n",
    "    model = LinearRegression()\n",
    "    model.fit(X_train, y_train)\n",
    "    predictions = model.predict(X_test)\n",
    "    \n",
    "    # Create a temporary dataframe to hold predictions\n",
    "    predictions = pd.DataFrame(predictions, index=X_test.index, columns=[\"Out-of-Sample Predictions\"])\n",
    "    \n",
    "    # Create a temporary DataFrame of the actual \"y\"s in the test dataframe, with column name=\"Actual Returns\": \n",
    "    actuals = pd.DataFrame(y_test, index=y_test.index)\n",
    "    actuals.columns = [\"Actual Returns\"]  \n",
    "    \n",
    "    # Append these two dataframes (predictions and actuals) to the two master DataFrames built outside the loop\n",
    "    all_predictions = all_predictions.append(predictions)\n",
    "    all_actuals = all_actuals.append(actuals)   \n",
    "    "
   ]
  },
  {
   "cell_type": "code",
   "execution_count": null,
   "metadata": {},
   "outputs": [],
   "source": [
    "# Concat actual returns with out-of-sample predictions\n",
    "Results = pd.concat([all_actuals, all_predictions], axis=1)\n",
    "Results.head()\n",
    "\n",
    "# 2019 Data\n",
    "Results_2019 = Results.loc['2019':]\n",
    "Results_2019"
   ]
  },
  {
   "cell_type": "code",
   "execution_count": null,
   "metadata": {},
   "outputs": [],
   "source": [
    "# Out-of-sample metrics\n",
    "# Calculate the mean_squared_error (MSE) on actual versus predicted test \"y\" \n",
    "# (Hint: use the dataframe above)\n",
    "mse = mean_squared_error(\n",
    "    Results_2019[\"Actual Returns\"],\n",
    "    Results_2019[\"Out-of-Sample Predictions\"]\n",
    ")\n",
    "\n",
    "# Using that mean-squared-error, calculate the root-mean-squared error (RMSE):\n",
    "rolling_rmse = np.sqrt(mse)\n",
    "print(f\"Rolling Out-of-Sample Root Mean Squared Error (RMSE): {rolling_rmse}\")"
   ]
  },
  {
   "cell_type": "markdown",
   "metadata": {},
   "source": [
    "## Final Model Comparison"
   ]
  },
  {
   "cell_type": "code",
   "execution_count": null,
   "metadata": {},
   "outputs": [],
   "source": [
    "# Print out-of-sample RMSE and rolling out-of-sample RMSE\n",
    "print(f\"Out-of-sample Root Mean Squared Error (RMSE): {out_sample_rmse}\")\n",
    "print(f\"Rolling Out-of-Sample Root Mean Squared Error (RMSE): {rolling_rmse}\")"
   ]
  },
  {
   "cell_type": "code",
   "execution_count": null,
   "metadata": {},
   "outputs": [],
   "source": []
  },
  {
   "cell_type": "markdown",
   "metadata": {},
   "source": [
    "**Question:** How does the RMSE for the two models compare?\n",
    "\n",
    "Answer: Comparing the two RMSE's, the RMSE from the single training window is 2.266, whereas it is 2.237 from the rolling out-of-sample model.\n",
    "\n",
    "The rolling-out-of sample approach is an approach more appropriate to real life. The two values are close to each other which should suggest that our model is reasonably stable but the values are quite close to the standard deviation of dataset at 2.73 indicating room for improvements."
   ]
  },
  {
   "cell_type": "markdown",
   "metadata": {},
   "source": [
    "---"
   ]
  },
  {
   "cell_type": "markdown",
   "metadata": {},
   "source": [
    "# Model 2: Balanced Random Forest Classifier"
   ]
  },
  {
   "cell_type": "code",
   "execution_count": null,
   "metadata": {},
   "outputs": [],
   "source": []
  },
  {
   "cell_type": "markdown",
   "metadata": {},
   "source": [
    "# Model 3: LSTM Predictor Using Closing Prices"
   ]
  },
  {
   "cell_type": "code",
   "execution_count": 46,
   "metadata": {},
   "outputs": [
    {
     "data": {
      "text/html": [
       "<div>\n",
       "<style scoped>\n",
       "    .dataframe tbody tr th:only-of-type {\n",
       "        vertical-align: middle;\n",
       "    }\n",
       "\n",
       "    .dataframe tbody tr th {\n",
       "        vertical-align: top;\n",
       "    }\n",
       "\n",
       "    .dataframe thead th {\n",
       "        text-align: right;\n",
       "    }\n",
       "</style>\n",
       "<table border=\"1\" class=\"dataframe\">\n",
       "  <thead>\n",
       "    <tr style=\"text-align: right;\">\n",
       "      <th></th>\n",
       "      <th>Return</th>\n",
       "    </tr>\n",
       "    <tr>\n",
       "      <th>Date</th>\n",
       "      <th></th>\n",
       "    </tr>\n",
       "  </thead>\n",
       "  <tbody>\n",
       "    <tr>\n",
       "      <th>2014-01-02</th>\n",
       "      <td>-3.027836</td>\n",
       "    </tr>\n",
       "    <tr>\n",
       "      <th>2014-01-03</th>\n",
       "      <td>-1.550716</td>\n",
       "    </tr>\n",
       "    <tr>\n",
       "      <th>2014-01-06</th>\n",
       "      <td>-0.564069</td>\n",
       "    </tr>\n",
       "    <tr>\n",
       "      <th>2014-01-07</th>\n",
       "      <td>0.256875</td>\n",
       "    </tr>\n",
       "    <tr>\n",
       "      <th>2014-01-08</th>\n",
       "      <td>-1.430550</td>\n",
       "    </tr>\n",
       "    <tr>\n",
       "      <th>...</th>\n",
       "      <td>...</td>\n",
       "    </tr>\n",
       "    <tr>\n",
       "      <th>2019-12-23</th>\n",
       "      <td>0.132366</td>\n",
       "    </tr>\n",
       "    <tr>\n",
       "      <th>2019-12-24</th>\n",
       "      <td>0.974885</td>\n",
       "    </tr>\n",
       "    <tr>\n",
       "      <th>2019-12-26</th>\n",
       "      <td>0.932744</td>\n",
       "    </tr>\n",
       "    <tr>\n",
       "      <th>2019-12-27</th>\n",
       "      <td>0.064852</td>\n",
       "    </tr>\n",
       "    <tr>\n",
       "      <th>2019-12-30</th>\n",
       "      <td>-0.064810</td>\n",
       "    </tr>\n",
       "  </tbody>\n",
       "</table>\n",
       "<p>1507 rows × 1 columns</p>\n",
       "</div>"
      ],
      "text/plain": [
       "              Return\n",
       "Date                \n",
       "2014-01-02 -3.027836\n",
       "2014-01-03 -1.550716\n",
       "2014-01-06 -0.564069\n",
       "2014-01-07  0.256875\n",
       "2014-01-08 -1.430550\n",
       "...              ...\n",
       "2019-12-23  0.132366\n",
       "2019-12-24  0.974885\n",
       "2019-12-26  0.932744\n",
       "2019-12-27  0.064852\n",
       "2019-12-30 -0.064810\n",
       "\n",
       "[1507 rows x 1 columns]"
      ]
     },
     "execution_count": 46,
     "metadata": {},
     "output_type": "execute_result"
    }
   ],
   "source": [
    "# Set the random seed for reproducibility\n",
    "# Note: This is used for model prototyping, but it is good practice to comment this out and run multiple experiments to evaluate your model.\n",
    "from numpy.random import seed\n",
    "\n",
    "seed(1)\n",
    "from tensorflow import random\n",
    "\n",
    "random.set_seed(2)\n",
    "\n",
    "df = historical_df.drop(['Close','Volume', 'Lagged_Return'],axis=1)\n",
    "\n",
    "df.shape\n",
    "\n",
    "# Create a train/test split for the dataset\n",
    "##X_train = df.loc['20000101':'20141231']\n",
    "##X_test = df.loc['20140101':'20191231'] \n",
    "\n",
    "##X_train.head(-1)\n",
    "##X_test.head(-1)\n",
    "\n",
    "##y_train\n",
    "##y_test"
   ]
  },
  {
   "cell_type": "code",
   "execution_count": 30,
   "metadata": {},
   "outputs": [],
   "source": [
    "def window_data(df, window, feature_col_number, target_col_number):\n",
    "    \"\"\"\n",
    "    This function accepts the column number for the features (X) and the target (y).\n",
    "    It chunks the data up with a rolling window of Xt - window to predict Xt.\n",
    "    It returns two numpy arrays of X and y.\n",
    "    \"\"\"\n",
    "    X = []\n",
    "    y = []\n",
    "    for i in range(len(df) - window):\n",
    "        features = df.iloc[i : (i + window), feature_col_number]\n",
    "        target = df.iloc[(i + window), target_col_number]\n",
    "        X.append(features)\n",
    "        y.append(target)\n",
    "    return np.array(X), np.array(y).reshape(-1, 1)"
   ]
  },
  {
   "cell_type": "code",
   "execution_count": 31,
   "metadata": {},
   "outputs": [
    {
     "name": "stdout",
     "output_type": "stream",
     "text": [
      "X sample values:\n",
      "[[ 1.32785358  2.55850145 -0.45633622  2.07824046 -0.89821269]\n",
      " [ 2.55850145 -0.45633622  2.07824046 -0.89821269  0.84592933]\n",
      " [-0.45633622  2.07824046 -0.89821269  0.84592933  1.25823294]\n",
      " [ 2.07824046 -0.89821269  0.84592933  1.25823294  3.40237146]\n",
      " [-0.89821269  0.84592933  1.25823294  3.40237146  1.08727056]] \n",
      "\n",
      "y sample values:\n",
      "[[ 0.84592933]\n",
      " [ 1.25823294]\n",
      " [ 3.40237146]\n",
      " [ 1.08727056]\n",
      " [-4.61364558]]\n"
     ]
    }
   ],
   "source": [
    "# Creating the features (X) and target (y) data using the window_data() function.\n",
    "window_size = 5\n",
    "\n",
    "feature_column = 0\n",
    "target_column = 0\n",
    "X, y = window_data(df, window_size, feature_column, target_column)\n",
    "print (f\"X sample values:\\n{X[:5]} \\n\")\n",
    "print (f\"y sample values:\\n{y[:5]}\")"
   ]
  },
  {
   "cell_type": "code",
   "execution_count": 47,
   "metadata": {},
   "outputs": [],
   "source": [
    "# Use 70% of the data for training and the remainder for testing\n",
    "split = int(0.7 * len(X))\n",
    "X_train = X[: split]\n",
    "X_test = X[split:]\n",
    "y_train = y[: split]\n",
    "y_test = y[split:]"
   ]
  },
  {
   "cell_type": "code",
   "execution_count": 48,
   "metadata": {},
   "outputs": [],
   "source": []
  },
  {
   "cell_type": "code",
   "execution_count": 50,
   "metadata": {},
   "outputs": [
    {
     "name": "stdout",
     "output_type": "stream",
     "text": [
      "X_train sample values:\n",
      "[[[ 1.32785358]\n",
      "  [ 2.55850145]\n",
      "  [-0.45633622]\n",
      "  [ 2.07824046]\n",
      "  [-0.89821269]]\n",
      "\n",
      " [[ 2.55850145]\n",
      "  [-0.45633622]\n",
      "  [ 2.07824046]\n",
      "  [-0.89821269]\n",
      "  [ 0.84592933]]\n",
      "\n",
      " [[-0.45633622]\n",
      "  [ 2.07824046]\n",
      "  [-0.89821269]\n",
      "  [ 0.84592933]\n",
      "  [ 1.25823294]]\n",
      "\n",
      " [[ 2.07824046]\n",
      "  [-0.89821269]\n",
      "  [ 0.84592933]\n",
      "  [ 1.25823294]\n",
      "  [ 3.40237146]]\n",
      "\n",
      " [[-0.89821269]\n",
      "  [ 0.84592933]\n",
      "  [ 1.25823294]\n",
      "  [ 3.40237146]\n",
      "  [ 1.08727056]]] \n",
      "\n",
      "X_test sample values:\n",
      "[[[ 0.21430665]\n",
      "  [ 0.70265017]\n",
      "  [-0.81908946]\n",
      "  [ 1.65170788]\n",
      "  [ 0.67202188]]\n",
      "\n",
      " [[ 0.70265017]\n",
      "  [-0.81908946]\n",
      "  [ 1.65170788]\n",
      "  [ 0.67202188]\n",
      "  [-0.93653723]]\n",
      "\n",
      " [[-0.81908946]\n",
      "  [ 1.65170788]\n",
      "  [ 0.67202188]\n",
      "  [-0.93653723]\n",
      "  [ 0.03017075]]\n",
      "\n",
      " [[ 1.65170788]\n",
      "  [ 0.67202188]\n",
      "  [-0.93653723]\n",
      "  [ 0.03017075]\n",
      "  [ 0.14075949]]\n",
      "\n",
      " [[ 0.67202188]\n",
      "  [-0.93653723]\n",
      "  [ 0.03017075]\n",
      "  [ 0.14075949]\n",
      "  [-0.41164261]]]\n"
     ]
    }
   ],
   "source": [
    "# Reshape the features for the model\n",
    "X_train = X_train.reshape((X_train.shape[0], X_train.shape[1], 1))\n",
    "X_test = X_test.reshape((X_test.shape[0], X_test.shape[1], 1))\n",
    "print (f\"X_train sample values:\\n{X_train[:5]} \\n\")\n",
    "print (f\"X_test sample values:\\n{X_test[:5]}\")"
   ]
  },
  {
   "cell_type": "markdown",
   "metadata": {},
   "source": [
    "## Build and Train the LSTM RNN"
   ]
  },
  {
   "cell_type": "code",
   "execution_count": 62,
   "metadata": {},
   "outputs": [],
   "source": [
    "# Import required Keras modules\n",
    "from tensorflow.keras.models import Sequential\n",
    "from tensorflow.keras.layers import LSTM, Dense, Dropout\n"
   ]
  },
  {
   "cell_type": "code",
   "execution_count": 76,
   "metadata": {},
   "outputs": [],
   "source": [
    "# Define the LSTM RNN model.\n",
    "model = Sequential()\n",
    "\n",
    "number_units = 5\n",
    "dropout_fraction = 0.2\n",
    "\n",
    "# Layer 1\n",
    "model.add(LSTM(\n",
    "    units=number_units,\n",
    "    return_sequences=True,\n",
    "    input_shape=(X_train.shape[1], 1))\n",
    "    )\n",
    "model.add(Dropout(dropout_fraction))\n",
    "# Layer 2\n",
    "model.add(LSTM(units=number_units, return_sequences=True))\n",
    "model.add(Dropout(dropout_fraction))\n",
    "# Layer 3\n",
    "model.add(LSTM(units=number_units))\n",
    "model.add(Dropout(dropout_fraction))\n",
    "# Output layer\n",
    "model.add(Dense(1))"
   ]
  },
  {
   "cell_type": "code",
   "execution_count": 77,
   "metadata": {},
   "outputs": [],
   "source": [
    "# Compile the model\n",
    "model.compile(optimizer=\"adam\", loss=\"mean_squared_error\")"
   ]
  },
  {
   "cell_type": "code",
   "execution_count": 78,
   "metadata": {},
   "outputs": [
    {
     "name": "stdout",
     "output_type": "stream",
     "text": [
      "Model: \"sequential_4\"\n",
      "_________________________________________________________________\n",
      " Layer (type)                Output Shape              Param #   \n",
      "=================================================================\n",
      " lstm_12 (LSTM)              (None, 5, 5)              140       \n",
      "                                                                 \n",
      " dropout_12 (Dropout)        (None, 5, 5)              0         \n",
      "                                                                 \n",
      " lstm_13 (LSTM)              (None, 5, 5)              220       \n",
      "                                                                 \n",
      " dropout_13 (Dropout)        (None, 5, 5)              0         \n",
      "                                                                 \n",
      " lstm_14 (LSTM)              (None, 5)                 220       \n",
      "                                                                 \n",
      " dropout_14 (Dropout)        (None, 5)                 0         \n",
      "                                                                 \n",
      " dense_4 (Dense)             (None, 1)                 6         \n",
      "                                                                 \n",
      "=================================================================\n",
      "Total params: 586\n",
      "Trainable params: 586\n",
      "Non-trainable params: 0\n",
      "_________________________________________________________________\n"
     ]
    }
   ],
   "source": [
    "# Summarize the model\n",
    "model.summary()"
   ]
  },
  {
   "cell_type": "code",
   "execution_count": 79,
   "metadata": {},
   "outputs": [
    {
     "name": "stdout",
     "output_type": "stream",
     "text": [
      "Epoch 1/10\n",
      "3395/3395 [==============================] - 46s 11ms/step - loss: 5.7132\n",
      "Epoch 2/10\n",
      "3395/3395 [==============================] - 38s 11ms/step - loss: 5.7177\n",
      "Epoch 3/10\n",
      "3395/3395 [==============================] - 35s 10ms/step - loss: 5.7133\n",
      "Epoch 4/10\n",
      "3395/3395 [==============================] - 35s 10ms/step - loss: 5.7124\n",
      "Epoch 5/10\n",
      "3395/3395 [==============================] - 35s 10ms/step - loss: 5.7115\n",
      "Epoch 6/10\n",
      "3395/3395 [==============================] - 35s 10ms/step - loss: 5.7120\n",
      "Epoch 7/10\n",
      "3395/3395 [==============================] - 36s 11ms/step - loss: 5.7099\n",
      "Epoch 8/10\n",
      "3395/3395 [==============================] - 35s 10ms/step - loss: 5.7018\n",
      "Epoch 9/10\n",
      "3395/3395 [==============================] - 35s 10ms/step - loss: 5.6876\n",
      "Epoch 10/10\n",
      "3395/3395 [==============================] - 36s 11ms/step - loss: 5.6903\n"
     ]
    },
    {
     "data": {
      "text/plain": [
       "<keras.callbacks.History at 0x23268df1b50>"
      ]
     },
     "execution_count": 79,
     "metadata": {},
     "output_type": "execute_result"
    }
   ],
   "source": [
    "# Train the model\n",
    "model.fit(X_train, y_train, epochs=10, shuffle=False, batch_size=1, verbose=1)"
   ]
  },
  {
   "cell_type": "markdown",
   "metadata": {},
   "source": [
    "## Model Performance"
   ]
  },
  {
   "cell_type": "code",
   "execution_count": 80,
   "metadata": {},
   "outputs": [
    {
     "name": "stdout",
     "output_type": "stream",
     "text": [
      "46/46 [==============================] - 4s 6ms/step - loss: 5.3214\n"
     ]
    },
    {
     "data": {
      "text/plain": [
       "5.321421146392822"
      ]
     },
     "execution_count": 80,
     "metadata": {},
     "output_type": "execute_result"
    }
   ],
   "source": [
    "# Evaluate the model\n",
    "model.evaluate(X_test, y_test)"
   ]
  },
  {
   "cell_type": "code",
   "execution_count": 82,
   "metadata": {},
   "outputs": [],
   "source": [
    "# Make some predictions\n",
    "predicted = model.predict(X_test)"
   ]
  },
  {
   "cell_type": "markdown",
   "metadata": {},
   "source": [
    "### Plotting Predicted Vs. Real Prices"
   ]
  },
  {
   "cell_type": "code",
   "execution_count": 83,
   "metadata": {},
   "outputs": [],
   "source": [
    "predicted_prices = predicted\n",
    "real_prices = y_test"
   ]
  },
  {
   "cell_type": "code",
   "execution_count": 84,
   "metadata": {},
   "outputs": [
    {
     "data": {
      "text/html": [
       "<div>\n",
       "<style scoped>\n",
       "    .dataframe tbody tr th:only-of-type {\n",
       "        vertical-align: middle;\n",
       "    }\n",
       "\n",
       "    .dataframe tbody tr th {\n",
       "        vertical-align: top;\n",
       "    }\n",
       "\n",
       "    .dataframe thead th {\n",
       "        text-align: right;\n",
       "    }\n",
       "</style>\n",
       "<table border=\"1\" class=\"dataframe\">\n",
       "  <thead>\n",
       "    <tr style=\"text-align: right;\">\n",
       "      <th></th>\n",
       "      <th>Actual</th>\n",
       "      <th>Predicted</th>\n",
       "    </tr>\n",
       "    <tr>\n",
       "      <th>Date</th>\n",
       "      <th></th>\n",
       "      <th></th>\n",
       "    </tr>\n",
       "  </thead>\n",
       "  <tbody>\n",
       "    <tr>\n",
       "      <th>2014-03-20</th>\n",
       "      <td>-0.936537</td>\n",
       "      <td>0.071876</td>\n",
       "    </tr>\n",
       "    <tr>\n",
       "      <th>2014-03-21</th>\n",
       "      <td>0.030171</td>\n",
       "      <td>0.070705</td>\n",
       "    </tr>\n",
       "    <tr>\n",
       "      <th>2014-03-24</th>\n",
       "      <td>0.140759</td>\n",
       "      <td>0.072220</td>\n",
       "    </tr>\n",
       "    <tr>\n",
       "      <th>2014-03-25</th>\n",
       "      <td>-0.411643</td>\n",
       "      <td>0.067037</td>\n",
       "    </tr>\n",
       "    <tr>\n",
       "      <th>2014-03-26</th>\n",
       "      <td>1.078737</td>\n",
       "      <td>0.072992</td>\n",
       "    </tr>\n",
       "  </tbody>\n",
       "</table>\n",
       "</div>"
      ],
      "text/plain": [
       "              Actual  Predicted\n",
       "Date                           \n",
       "2014-03-20 -0.936537   0.071876\n",
       "2014-03-21  0.030171   0.070705\n",
       "2014-03-24  0.140759   0.072220\n",
       "2014-03-25 -0.411643   0.067037\n",
       "2014-03-26  1.078737   0.072992"
      ]
     },
     "execution_count": 84,
     "metadata": {},
     "output_type": "execute_result"
    }
   ],
   "source": [
    "# Create a DataFrame of Real and Predicted values\n",
    "stocks = pd.DataFrame({\n",
    "    \"Actual\": real_prices.ravel(),\n",
    "    \"Predicted\": predicted_prices.ravel()\n",
    "}, index = df.index[-len(real_prices): ]) \n",
    "\n",
    "# Show the DataFrame's head\n",
    "stocks.head()"
   ]
  },
  {
   "cell_type": "code",
   "execution_count": 85,
   "metadata": {},
   "outputs": [
    {
     "data": {
      "text/plain": [
       "<AxesSubplot:xlabel='Date'>"
      ]
     },
     "execution_count": 85,
     "metadata": {},
     "output_type": "execute_result"
    },
    {
     "data": {
      "image/png": "[encoded data removed]",
      "text/plain": [
       "<Figure size 432x288 with 1 Axes>"
      ]
     },
     "metadata": {
      "needs_background": "light"
     },
     "output_type": "display_data"
    }
   ],
   "source": [
    "# Plot the real vs predicted prices as a line chart\n",
    "stocks.plot()"
   ]
  },
  {
   "cell_type": "markdown",
   "metadata": {},
   "source": [
    "---"
   ]
  },
  {
   "cell_type": "markdown",
   "metadata": {},
   "source": []
  },
  {
   "cell_type": "markdown",
   "metadata": {},
   "source": []
  },
  {
   "cell_type": "code",
   "execution_count": null,
   "metadata": {},
   "outputs": [],
   "source": []
  },
  {
   "cell_type": "code",
   "execution_count": null,
   "metadata": {},
   "outputs": [],
   "source": []
  },
  {
   "cell_type": "markdown",
   "metadata": {},
   "source": []
  },
  {
   "cell_type": "code",
   "execution_count": null,
   "metadata": {},
   "outputs": [],
   "source": []
  },
  {
   "cell_type": "markdown",
   "metadata": {},
   "source": [
    "\n"
   ]
  },
  {
   "cell_type": "markdown",
   "metadata": {},
   "source": [
    "---"
   ]
  },
  {
   "cell_type": "markdown",
   "metadata": {},
   "source": [
    "---"
   ]
  },
  {
   "cell_type": "markdown",
   "metadata": {},
   "source": [
    "# Conclusions"
   ]
  },
  {
   "cell_type": "markdown",
   "metadata": {},
   "source": []
  },
  {
   "cell_type": "code",
   "execution_count": null,
   "metadata": {},
   "outputs": [],
   "source": []
  }
 ],
 "metadata": {
  "file_extension": ".py",
  "kernelspec": {
   "display_name": "Python 3",
   "language": "python",
   "name": "python3"
  },
  "language_info": {
   "codemirror_mode": {
    "name": "ipython",
    "version": 3
   },
   "file_extension": ".py",
   "mimetype": "text/x-python",
   "name": "python",
   "nbconvert_exporter": "python",
   "pygments_lexer": "ipython3",
   "version": "3.8.8"
  },
  "mimetype": "text/x-python",
  "name": "python",
  "npconvert_exporter": "python",
  "pygments_lexer": "ipython3",
  "version": 3
 },
 "nbformat": 4,
 "nbformat_minor": 4
}
