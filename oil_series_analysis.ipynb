{
 "cells": [
  {
   "cell_type": "code",
   "execution_count": 3,
   "metadata": {},
   "outputs": [],
   "source": [
    "import numpy as np\n",
    "import pandas as pd\n",
    "from pathlib import Path\n",
    "%matplotlib inline\n",
    "import datetime as dt\n",
    "from dotenv import load_dotenv\n",
    "import yfinance as yf\n",
    "from pandas_datareader import data as pdr\n",
    "\n",
    "import warnings\n",
    "warnings.simplefilter(action='ignore', category=Warning)\n",
    "\n",
    "##import hvplot.pandas\n",
    "##import holoviz\n",
    "##import os, holoviews as hv\n",
    "##os.environ['HV_DOC_HTML'] = 'true'"
   ]
  },
  {
   "cell_type": "markdown",
   "metadata": {},
   "source": [
    "# Data Collection - Oil Prices (in USD) data.\n",
    "In this notebook, we will load historical Oil data and apply time series analysis and modeling to determine whether there is any predictable behavior."
   ]
  },
  {
   "cell_type": "code",
   "execution_count": 4,
   "metadata": {},
   "outputs": [],
   "source": [
    "# Fetch oil data from Yahoo Finance\n",
    "oil = yf.Ticker(\"CL=F\")\n",
    "\n",
    "# get stock info\n",
    "oil.info\n",
    "\n",
    "# get historical market data\n",
    "df = oil.history(period=\"max\")"
   ]
  },
  {
   "cell_type": "code",
   "execution_count": 5,
   "metadata": {},
   "outputs": [
    {
     "data": {
      "text/html": [
       "<div>\n",
       "<style scoped>\n",
       "    .dataframe tbody tr th:only-of-type {\n",
       "        vertical-align: middle;\n",
       "    }\n",
       "\n",
       "    .dataframe tbody tr th {\n",
       "        vertical-align: top;\n",
       "    }\n",
       "\n",
       "    .dataframe thead th {\n",
       "        text-align: right;\n",
       "    }\n",
       "</style>\n",
       "<table border=\"1\" class=\"dataframe\">\n",
       "  <thead>\n",
       "    <tr style=\"text-align: right;\">\n",
       "      <th></th>\n",
       "      <th>Close</th>\n",
       "      <th>Volume</th>\n",
       "      <th>Return</th>\n",
       "      <th>Lagged_Return</th>\n",
       "    </tr>\n",
       "    <tr>\n",
       "      <th>Date</th>\n",
       "      <th></th>\n",
       "      <th></th>\n",
       "      <th></th>\n",
       "      <th></th>\n",
       "    </tr>\n",
       "  </thead>\n",
       "  <tbody>\n",
       "    <tr>\n",
       "      <th>2000-08-25</th>\n",
       "      <td>32.049999</td>\n",
       "      <td>44601</td>\n",
       "      <td>1.327854</td>\n",
       "      <td>-1.310453</td>\n",
       "    </tr>\n",
       "    <tr>\n",
       "      <th>2000-08-28</th>\n",
       "      <td>32.869999</td>\n",
       "      <td>46770</td>\n",
       "      <td>2.558501</td>\n",
       "      <td>1.327854</td>\n",
       "    </tr>\n",
       "    <tr>\n",
       "      <th>2000-08-29</th>\n",
       "      <td>32.720001</td>\n",
       "      <td>49131</td>\n",
       "      <td>-0.456336</td>\n",
       "      <td>2.558501</td>\n",
       "    </tr>\n",
       "    <tr>\n",
       "      <th>2000-08-30</th>\n",
       "      <td>33.400002</td>\n",
       "      <td>79214</td>\n",
       "      <td>2.078240</td>\n",
       "      <td>-0.456336</td>\n",
       "    </tr>\n",
       "    <tr>\n",
       "      <th>2000-08-31</th>\n",
       "      <td>33.099998</td>\n",
       "      <td>56895</td>\n",
       "      <td>-0.898213</td>\n",
       "      <td>2.078240</td>\n",
       "    </tr>\n",
       "  </tbody>\n",
       "</table>\n",
       "</div>"
      ],
      "text/plain": [
       "                Close  Volume    Return  Lagged_Return\n",
       "Date                                                  \n",
       "2000-08-25  32.049999   44601  1.327854      -1.310453\n",
       "2000-08-28  32.869999   46770  2.558501       1.327854\n",
       "2000-08-29  32.720001   49131 -0.456336       2.558501\n",
       "2000-08-30  33.400002   79214  2.078240      -0.456336\n",
       "2000-08-31  33.099998   56895 -0.898213       2.078240"
      ]
     },
     "execution_count": 5,
     "metadata": {},
     "output_type": "execute_result"
    }
   ],
   "source": [
    "# Drop the column not needed and assifn to a datafram\n",
    "historical_df = df.drop(['Open',\"High\",'Low','Dividends','Stock Splits'],axis=1)\n",
    "\n",
    "# Add a Returns Column to the dataframe\n",
    "historical_df[\"Return\"] = historical_df[\"Close\"].pct_change() * 100\n",
    "\n",
    "# Drop null values\n",
    "historical_df.dropna(inplace=True)\n",
    "\n",
    "# Create a lagged return using the shift function\n",
    "historical_df['Lagged_Return'] = historical_df[['Return']].shift()\n",
    "\n",
    "# Drop null values\n",
    "historical_df.dropna(inplace=True)\n",
    "\n",
    "historical_df.head()"
   ]
  },
  {
   "cell_type": "code",
   "execution_count": 6,
   "metadata": {},
   "outputs": [
    {
     "data": {
      "text/html": [
       "<div>\n",
       "<style scoped>\n",
       "    .dataframe tbody tr th:only-of-type {\n",
       "        vertical-align: middle;\n",
       "    }\n",
       "\n",
       "    .dataframe tbody tr th {\n",
       "        vertical-align: top;\n",
       "    }\n",
       "\n",
       "    .dataframe thead th {\n",
       "        text-align: right;\n",
       "    }\n",
       "</style>\n",
       "<table border=\"1\" class=\"dataframe\">\n",
       "  <thead>\n",
       "    <tr style=\"text-align: right;\">\n",
       "      <th></th>\n",
       "      <th>Close</th>\n",
       "      <th>Volume</th>\n",
       "      <th>Return</th>\n",
       "      <th>Lagged_Return</th>\n",
       "    </tr>\n",
       "    <tr>\n",
       "      <th>Date</th>\n",
       "      <th></th>\n",
       "      <th></th>\n",
       "      <th></th>\n",
       "      <th></th>\n",
       "    </tr>\n",
       "  </thead>\n",
       "  <tbody>\n",
       "    <tr>\n",
       "      <th>2022-03-04</th>\n",
       "      <td>115.680000</td>\n",
       "      <td>493875</td>\n",
       "      <td>7.439400</td>\n",
       "      <td>-2.649187</td>\n",
       "    </tr>\n",
       "    <tr>\n",
       "      <th>2022-03-07</th>\n",
       "      <td>119.400002</td>\n",
       "      <td>576022</td>\n",
       "      <td>3.215769</td>\n",
       "      <td>7.439400</td>\n",
       "    </tr>\n",
       "    <tr>\n",
       "      <th>2022-03-08</th>\n",
       "      <td>123.699997</td>\n",
       "      <td>583106</td>\n",
       "      <td>3.601336</td>\n",
       "      <td>3.215769</td>\n",
       "    </tr>\n",
       "    <tr>\n",
       "      <th>2022-03-09</th>\n",
       "      <td>108.699997</td>\n",
       "      <td>583106</td>\n",
       "      <td>-12.126112</td>\n",
       "      <td>3.601336</td>\n",
       "    </tr>\n",
       "    <tr>\n",
       "      <th>2022-03-10</th>\n",
       "      <td>106.370003</td>\n",
       "      <td>21361</td>\n",
       "      <td>-2.143509</td>\n",
       "      <td>-12.126112</td>\n",
       "    </tr>\n",
       "  </tbody>\n",
       "</table>\n",
       "</div>"
      ],
      "text/plain": [
       "                 Close  Volume     Return  Lagged_Return\n",
       "Date                                                    \n",
       "2022-03-04  115.680000  493875   7.439400      -2.649187\n",
       "2022-03-07  119.400002  576022   3.215769       7.439400\n",
       "2022-03-08  123.699997  583106   3.601336       3.215769\n",
       "2022-03-09  108.699997  583106 -12.126112       3.601336\n",
       "2022-03-10  106.370003   21361  -2.143509     -12.126112"
      ]
     },
     "execution_count": 6,
     "metadata": {},
     "output_type": "execute_result"
    }
   ],
   "source": [
    "historical_df.tail()"
   ]
  },
  {
   "cell_type": "markdown",
   "metadata": {},
   "source": [
    "## Initial Time-Series Plotting"
   ]
  },
  {
   "cell_type": "code",
   "execution_count": 7,
   "metadata": {},
   "outputs": [
    {
     "data": {
      "text/plain": [
       "<AxesSubplot:title={'center':'Oil Prices: August 2000 - March 2022'}, xlabel='Date'>"
      ]
     },
     "execution_count": 7,
     "metadata": {},
     "output_type": "execute_result"
    },
    {
     "data": {
      "image/png": "[encoded data removed]",
      "text/plain": [
       "<Figure size 432x288 with 1 Axes>"
      ]
     },
     "metadata": {
      "needs_background": "light"
     },
     "output_type": "display_data"
    }
   ],
   "source": [
    "# Plot the Oil Close prices\n",
    "historical_df.Close.plot(title=\"Oil Prices: August 2000 - March 2022\")"
   ]
  },
  {
   "cell_type": "code",
   "execution_count": 8,
   "metadata": {},
   "outputs": [],
   "source": [
    "##hv.extension('bokeh')\n",
    "##hv.Curve([1, 2, 3])"
   ]
  },
  {
   "cell_type": "code",
   "execution_count": 9,
   "metadata": {},
   "outputs": [
    {
     "data": {
      "text/plain": [
       "<AxesSubplot:title={'center':'Oil Returns: August 2000 - March 2022'}, xlabel='Date'>"
      ]
     },
     "execution_count": 9,
     "metadata": {},
     "output_type": "execute_result"
    },
    {
     "data": {
      "image/png": "[encoded data removed]",
      "text/plain": [
       "<Figure size 432x288 with 1 Axes>"
      ]
     },
     "metadata": {
      "needs_background": "light"
     },
     "output_type": "display_data"
    }
   ],
   "source": [
    "# Plot the Oil Returns\n",
    "historical_df.Return.plot(title=\"Oil Returns: August 2000 - March 2022\")"
   ]
  },
  {
   "cell_type": "markdown",
   "metadata": {},
   "source": [
    "The dip in oil rates in 2020 was an abnormality and hence we will utilize data until Dec 2019 for our anlaysis. "
   ]
  },
  {
   "cell_type": "code",
   "execution_count": 10,
   "metadata": {},
   "outputs": [],
   "source": [
    "# Slice the data so it is until Dec 2019\n",
    "historical_df = historical_df.loc[:'20191231']"
   ]
  },
  {
   "cell_type": "code",
   "execution_count": null,
   "metadata": {},
   "outputs": [],
   "source": [
    "# Plot the Oil Returns after dropping 2020\n",
    "historical_df.Return.plot(title=\"Oil Returns: August 2000 - December 2019\")"
   ]
  },
  {
   "cell_type": "markdown",
   "metadata": {},
   "source": [
    "---"
   ]
  },
  {
   "cell_type": "markdown",
   "metadata": {},
   "source": [
    "# Pre-Processing\n",
    "\n",
    "Split the data into training and testing data based on date range such that 75% falls in training set and 25% fals in testing set.  "
   ]
  },
  {
   "cell_type": "code",
   "execution_count": 12,
   "metadata": {},
   "outputs": [],
   "source": [
    "# Create a train/test split for the dataset\n",
    "##df_train = historical_df.loc['20000101':'20141231']\n",
    "##df_test = historical_df.loc['20140101':'20191231'] \n",
    "\n",
    "len_train = round(len(historical_df) * 0.7) \n",
    "\n",
    "df_train = historical_df.iloc[:len_train]\n",
    "df_test = historical_df.iloc[len_train:]\n",
    "\n",
    "X_train = df_train[\"Lagged_Return\"].to_frame()\n",
    "X_test = df_test[\"Lagged_Return\"].to_frame()\n",
    "\n",
    "y_train = df_train[\"Return\"]\n",
    "y_test = df_test[\"Return\"]\n",
    "\n",
    "##X_train.head()"
   ]
  },
  {
   "cell_type": "markdown",
   "metadata": {},
   "source": [
    "# Model: Linear Regression Model"
   ]
  },
  {
   "cell_type": "code",
   "execution_count": 14,
   "metadata": {},
   "outputs": [
    {
     "data": {
      "text/plain": [
       "LinearRegression()"
      ]
     },
     "execution_count": 14,
     "metadata": {},
     "output_type": "execute_result"
    }
   ],
   "source": [
    "# Create a Linear Regression model and fit it to the training data\n",
    "from sklearn.linear_model import LinearRegression\n",
    "\n",
    "# Fit a SKLearn linear regression using  just the training set (X_train, Y_train):\n",
    "model = LinearRegression()\n",
    "model.fit(X_train, y_train)"
   ]
  },
  {
   "cell_type": "markdown",
   "metadata": {},
   "source": [
    "## Make predictions using test data"
   ]
  },
  {
   "cell_type": "code",
   "execution_count": 15,
   "metadata": {},
   "outputs": [],
   "source": [
    "# Make a prediction of \"y\" values using just the test dataset\n",
    "predictions = model.predict(X_test)"
   ]
  },
  {
   "cell_type": "code",
   "execution_count": 16,
   "metadata": {},
   "outputs": [
    {
     "data": {
      "text/html": [
       "<div>\n",
       "<style scoped>\n",
       "    .dataframe tbody tr th:only-of-type {\n",
       "        vertical-align: middle;\n",
       "    }\n",
       "\n",
       "    .dataframe tbody tr th {\n",
       "        vertical-align: top;\n",
       "    }\n",
       "\n",
       "    .dataframe thead th {\n",
       "        text-align: right;\n",
       "    }\n",
       "</style>\n",
       "<table border=\"1\" class=\"dataframe\">\n",
       "  <thead>\n",
       "    <tr style=\"text-align: right;\">\n",
       "      <th></th>\n",
       "      <th>Return</th>\n",
       "      <th>Predicted Return</th>\n",
       "    </tr>\n",
       "  </thead>\n",
       "  <tbody>\n",
       "    <tr>\n",
       "      <th>count</th>\n",
       "      <td>1457.000000</td>\n",
       "      <td>1457.000000</td>\n",
       "    </tr>\n",
       "    <tr>\n",
       "      <th>mean</th>\n",
       "      <td>-0.006108</td>\n",
       "      <td>0.064047</td>\n",
       "    </tr>\n",
       "    <tr>\n",
       "      <th>std</th>\n",
       "      <td>2.302781</td>\n",
       "      <td>0.074751</td>\n",
       "    </tr>\n",
       "    <tr>\n",
       "      <th>min</th>\n",
       "      <td>-10.232054</td>\n",
       "      <td>-0.412571</td>\n",
       "    </tr>\n",
       "    <tr>\n",
       "      <th>25%</th>\n",
       "      <td>-1.249003</td>\n",
       "      <td>0.024984</td>\n",
       "    </tr>\n",
       "    <tr>\n",
       "      <th>50%</th>\n",
       "      <td>0.047944</td>\n",
       "      <td>0.062296</td>\n",
       "    </tr>\n",
       "    <tr>\n",
       "      <th>75%</th>\n",
       "      <td>1.197352</td>\n",
       "      <td>0.104397</td>\n",
       "    </tr>\n",
       "    <tr>\n",
       "      <th>max</th>\n",
       "      <td>14.676396</td>\n",
       "      <td>0.396004</td>\n",
       "    </tr>\n",
       "  </tbody>\n",
       "</table>\n",
       "</div>"
      ],
      "text/plain": [
       "            Return  Predicted Return\n",
       "count  1457.000000       1457.000000\n",
       "mean     -0.006108          0.064047\n",
       "std       2.302781          0.074751\n",
       "min     -10.232054         -0.412571\n",
       "25%      -1.249003          0.024984\n",
       "50%       0.047944          0.062296\n",
       "75%       1.197352          0.104397\n",
       "max      14.676396          0.396004"
      ]
     },
     "execution_count": 16,
     "metadata": {},
     "output_type": "execute_result"
    }
   ],
   "source": [
    "# Assemble actual y data (Y_test) with predicted y data (from just above) into two columns in a dataframe:\n",
    "Results = y_test.to_frame()\n",
    "Results[\"Predicted Return\"] = predictions\n",
    "\n",
    "Results.describe()"
   ]
  },
  {
   "cell_type": "code",
   "execution_count": 17,
   "metadata": {},
   "outputs": [
    {
     "data": {
      "text/plain": [
       "<AxesSubplot:title={'center':'Predicted Return vs Actual Return'}, xlabel='Date'>"
      ]
     },
     "execution_count": 17,
     "metadata": {},
     "output_type": "execute_result"
    },
    {
     "data": {
      "image/png": "[encoded data removed]",
      "text/plain": [
       "<Figure size 432x288 with 1 Axes>"
      ]
     },
     "metadata": {
      "needs_background": "light"
     },
     "output_type": "display_data"
    }
   ],
   "source": [
    "# Plot the predictions vs the true values\n",
    "Results.plot(title = \"Predicted Return vs Actual Return\")\n",
    "##Modify to use hvplot so it can be zoomed in"
   ]
  },
  {
   "cell_type": "markdown",
   "metadata": {},
   "source": [
    "## In-Sample Performance for Linear Regression\n",
    "\n",
    "Evaluate the model using in-sample data (X_train and y_train)"
   ]
  },
  {
   "cell_type": "code",
   "execution_count": 18,
   "metadata": {},
   "outputs": [
    {
     "name": "stdout",
     "output_type": "stream",
     "text": [
      "In-sample Root Mean Squared Error (RMSE): 2.3875321370121245\n"
     ]
    }
   ],
   "source": [
    "from sklearn.metrics import mean_squared_error\n",
    "# Calculate the mean_squared_error (MSE) on actual versus predicted test \"y\" \n",
    "\n",
    "# Construct a dataframe using just the \"y\" training data:\n",
    "in_sample_results = y_train.to_frame()\n",
    "\n",
    "# Add a column of \"in-sample\" predictions to that dataframe:  \n",
    "in_sample_results[\"In-sample Predictions\"] = model.predict(X_train)\n",
    "\n",
    "# Calculate in-sample mean_squared_error (for comparison to out-of-sample)\n",
    "mse = mean_squared_error(\n",
    "    in_sample_results[\"Return\"],\n",
    "    in_sample_results[\"In-sample Predictions\"]\n",
    ")\n",
    "\n",
    "# Calculate in-sample root mean_squared_error (for comparison to out-of-sample)\n",
    "in_sample_rmse = np.sqrt(mse)\n",
    "print(f\"In-sample Root Mean Squared Error (RMSE): {in_sample_rmse}\")"
   ]
  },
  {
   "cell_type": "markdown",
   "metadata": {},
   "source": [
    "## Out-of-Sample Performance\n",
    "\n",
    "Evaluate the model using \"out-of-sample\" data (X_test and y_test)"
   ]
  },
  {
   "cell_type": "code",
   "execution_count": 19,
   "metadata": {},
   "outputs": [
    {
     "name": "stdout",
     "output_type": "stream",
     "text": [
      "Out-of-Sample Root Mean Squared Error (RMSE): 2.2972477077928053\n"
     ]
    }
   ],
   "source": [
    "# Construct a dataframe using just the \"y\" test data:\n",
    "out_sample_results = y_test.to_frame()\n",
    "\n",
    "# Add a column of \"in-sample\" predictions to that dataframe:  \n",
    "out_sample_results[\"Out-of-Sample Predictions\"] = model.predict(X_test)\n",
    "\n",
    "# Calculate out_of-sample mean_squared_error\n",
    "mse = mean_squared_error(\n",
    "    out_sample_results[\"Return\"],\n",
    "    out_sample_results[\"Out-of-Sample Predictions\"]\n",
    ")\n",
    "\n",
    "# Using that mean-squared-error, calculate the root-mean-squared error (RMSE):\n",
    "out_sample_rmse = np.sqrt(mse)\n",
    "print(f\"Out-of-Sample Root Mean Squared Error (RMSE): {out_sample_rmse}\")"
   ]
  },
  {
   "cell_type": "markdown",
   "metadata": {},
   "source": [
    "## Comparison"
   ]
  },
  {
   "cell_type": "code",
   "execution_count": 26,
   "metadata": {},
   "outputs": [
    {
     "name": "stdout",
     "output_type": "stream",
     "text": [
      "Out-of-sample Root Mean Squared Error (RMSE): 2.2972477077928053\n",
      "Rolling Out-of-Sample Root Mean Squared Error (RMSE): 2.2372569642639344\n"
     ]
    }
   ],
   "source": [
    "# Print out-of-sample RMSE and rolling out-of-sample RMSE\n",
    "print(f\"Out-of-sample Root Mean Squared Error (RMSE): {in_sample_rmse}\")\n",
    "print(f\"Out-of-Sample Root Mean Squared Error (RMSE): {out_sample_rmse}\")"
   ]
  },
  {
   "cell_type": "code",
   "execution_count": null,
   "metadata": {},
   "outputs": [],
   "source": []
  },
  {
   "cell_type": "markdown",
   "metadata": {
    "tags": []
   },
   "source": [
    "Comparing the two RMSE's, the RMSE from the single training window is 2.266, whereas it is 2.237 from the rolling out-of-sample model.\n",
    "\n",
    "The rolling-out-of sample approach is an approach more appropriate to real life. The two values are close to each other which should suggest that our model is reasonably stable but the values are quite close to the standard deviation of dataset at 2.73 indicating room for improvements."
   ]
  },
  {
   "cell_type": "markdown",
   "metadata": {},
   "source": [
    "---"
   ]
  },
  {
   "cell_type": "markdown",
   "metadata": {
    "tags": []
   },
   "source": [
    "# Classification"
   ]
  },
  {
   "cell_type": "code",
   "execution_count": 31,
   "metadata": {},
   "outputs": [
    {
     "data": {
      "text/plain": [
       "Date\n",
       "2000-08-25    1\n",
       "2000-08-28    1\n",
       "2000-08-29    0\n",
       "2000-08-30    1\n",
       "2000-08-31    0\n",
       "             ..\n",
       "2019-12-24    1\n",
       "2019-12-26    1\n",
       "2019-12-27    1\n",
       "2019-12-30    0\n",
       "2019-12-31    0\n",
       "Name: Return, Length: 4855, dtype: int32"
      ]
     },
     "execution_count": 31,
     "metadata": {},
     "output_type": "execute_result"
    }
   ],
   "source": [
    "# Convert Returns to 0 or 1\n",
    "classification_df = (historical_df[\"Return\"] > 0).astype(int)\n",
    "classification_df"
   ]
  },
  {
   "cell_type": "markdown",
   "metadata": {},
   "source": [
    "# Model: Balanced Random Forest Classifier"
   ]
  },
  {
   "cell_type": "code",
   "execution_count": null,
   "metadata": {},
   "outputs": [],
   "source": [
    "# Use the same dataset but assign to new variable name for RF\n",
    "df_randomforest = historical_df.drop(['Close','Volume','Lagged_Return'],axis=1)\n",
    "previous_price = 0\n",
    "\n",
    "# Loop through the Pandas DataFrame and initiate a trade at each iteration\n",
    "\n",
    "for index, row in df_randomforest.iterrows():\n",
    "# buy if the previous_price is 0, in other words, buy on the first day\n",
    "\n",
    "    if row['Return'] < previous_price:\n",
    "\n",
    "        df_randomforest.loc[index, \"Direction\"] = 0\n",
    "\n",
    "# hold if the current day's price is greater than the previous day's price\n",
    "\n",
    "    elif row[\"Return\"] > previous_price:\n",
    "\n",
    "        df_randomforest.loc[index, \"Direction\"] = 1\n",
    "    \n",
    "df_randomforest.head(-1)"
   ]
  },
  {
   "cell_type": "code",
   "execution_count": null,
   "metadata": {},
   "outputs": [],
   "source": [
    "len_train = round(len(df_randomforest) * 0.7) \n",
    "\n",
    "df_train_rf = df_randomforest.iloc[:len_train]\n",
    "df_test_rf = df_randomforest.iloc[len_train:]\n"
   ]
  },
  {
   "cell_type": "code",
   "execution_count": null,
   "metadata": {},
   "outputs": [],
   "source": [
    "# Use the same X and y train and test data sets but for this model we need to reshape to get in numpy array\n",
    "\n",
    "X_train_rf = df_train_rf[\"Return\"].values.reshape(-1,1)\n",
    "X_test_rf = df_test_rf[\"Return\"].values.reshape(-1,1)\n",
    "y_train_rf = df_train_rf[\"Direction\"].values.reshape(-1,1)\n",
    "y_test_rf = df_test_rf[\"Direction\"].values.reshape(-1,1)\n",
    "\n",
    "\n",
    "# Scale the data sets\n",
    "# Create the StandardScaler instance\n",
    "from sklearn.preprocessing import StandardScaler\n",
    "scaler = StandardScaler()\n",
    "\n",
    "# Fit the Standard Scaler with the training data\n",
    "# When fitting scaling functions, only train on the training dataset\n",
    "scaler.fit(X_train_rf)\n",
    "\n",
    "# Scale the features training and testing sets\n",
    "X_train_rf_scaled = scaler.transform(X_train_rf)\n",
    "X_test_rf_scaled = scaler.transform(X_test_rf)\n",
    "\n",
    "\n",
    "X_train_rf"
   ]
  },
  {
   "cell_type": "code",
   "execution_count": null,
   "metadata": {},
   "outputs": [],
   "source": [
    "# Create a random forest classifier\n",
    "from sklearn.ensemble import RandomForestClassifier\n",
    "\n",
    "rf_model = RandomForestClassifier(n_estimators=500, random_state=78)"
   ]
  },
  {
   "cell_type": "code",
   "execution_count": null,
   "metadata": {},
   "outputs": [],
   "source": [
    "# Fitting the model\n",
    "rf_model = rf_model.fit(X_train_rf, y_train_rf)"
   ]
  },
  {
   "cell_type": "code",
   "execution_count": null,
   "metadata": {},
   "outputs": [],
   "source": [
    "# Making predictions using the testing data\n",
    "predictions = rf_model.predict(X_test)"
   ]
  },
  {
   "cell_type": "code",
   "execution_count": null,
   "metadata": {},
   "outputs": [],
   "source": [
    "# Calculating the confusion matrix\n",
    "cm = confusion_matrix(y_test, predictions)\n",
    "cm_df = pd.DataFrame(\n",
    "    cm, index=[\"Actual 0\", \"Actual 1\"], columns=[\"Predicted 0\", \"Predicted 1\"]\n",
    ")\n",
    "\n",
    "# Calculating the accuracy score\n",
    "acc_score = accuracy_score(y_test, predictions)"
   ]
  },
  {
   "cell_type": "code",
   "execution_count": null,
   "metadata": {},
   "outputs": [],
   "source": [
    "# Displaying results\n",
    "print(\"Confusion Matrix\")\n",
    "display(cm_df)\n",
    "print(f\"Accuracy Score : {acc_score}\")\n",
    "print(\"Classification Report\")\n",
    "print(classification_report(y_test, predictions))"
   ]
  },
  {
   "cell_type": "markdown",
   "metadata": {},
   "source": [
    "# Model: LSTM Predictor Using Closing Prices"
   ]
  },
  {
   "cell_type": "code",
   "execution_count": 63,
   "metadata": {},
   "outputs": [],
   "source": [
    "# Set the random seed for reproducibility\n",
    "# Note: This is used for model prototyping, but it is good practice to comment this out and run multiple experiments to evaluate your model.\n",
    "from numpy.random import seed\n",
    "\n",
    "seed(1)\n",
    "from tensorflow import random\n",
    "\n",
    "random.set_seed(2)\n",
    "\n",
    "\n",
    "# Use the same dataset but assign to new variable names for LSTM\n",
    "df = historical_df.drop(['Close','Volume', 'Lagged_Return'],axis=1)\n"
   ]
  },
  {
   "cell_type": "code",
   "execution_count": 64,
   "metadata": {},
   "outputs": [],
   "source": [
    "def window_data(df, window, feature_col_number, target_col_number):\n",
    "    \"\"\"\n",
    "    This function accepts the column number for the features (X) and the target (y).\n",
    "    It chunks the data up with a rolling window of Xt - window to predict Xt.\n",
    "    It returns two numpy arrays of X and y.\n",
    "    \"\"\"\n",
    "    X = []\n",
    "    y = []\n",
    "    for i in range(len(df) - window):\n",
    "        features = df.iloc[i : (i + window), feature_col_number]\n",
    "        target = df.iloc[(i + window), target_col_number]\n",
    "        X.append(features)\n",
    "        y.append(target)\n",
    "    return np.array(X), np.array(y).reshape(-1, 1)"
   ]
  },
  {
   "cell_type": "code",
   "execution_count": 65,
   "metadata": {},
   "outputs": [
    {
     "name": "stdout",
     "output_type": "stream",
     "text": [
      "X sample values:\n",
      "[[ 1.32785358  2.55850145 -0.45633622  2.07824046 -0.89821269]\n",
      " [ 2.55850145 -0.45633622  2.07824046 -0.89821269  0.84592933]\n",
      " [-0.45633622  2.07824046 -0.89821269  0.84592933  1.25823294]\n",
      " [ 2.07824046 -0.89821269  0.84592933  1.25823294  3.40237146]\n",
      " [-0.89821269  0.84592933  1.25823294  3.40237146  1.08727056]] \n",
      "\n",
      "y sample values:\n",
      "[[ 0.84592933]\n",
      " [ 1.25823294]\n",
      " [ 3.40237146]\n",
      " [ 1.08727056]\n",
      " [-4.61364558]]\n"
     ]
    }
   ],
   "source": [
    "# Creating the features (X) and target (y) data using the window_data() function.\n",
    "window_size = 5\n",
    "\n",
    "feature_column = 0\n",
    "target_column = 0\n",
    "X, y = window_data(df, window_size, feature_column, target_column)\n",
    "print (f\"X sample values:\\n{X[:5]} \\n\")\n",
    "print (f\"y sample values:\\n{y[:5]}\")"
   ]
  },
  {
   "cell_type": "code",
   "execution_count": 66,
   "metadata": {},
   "outputs": [],
   "source": [
    "# Use 70% of the data for training and the remainder for testing\n",
    "split = int(0.7 * len(X))\n",
    "X_train_lstm = X[: split]\n",
    "X_test_lstm = X[split:]\n",
    "y_train_lstm = y[: split]\n",
    "y_test_lstm = y[split:]"
   ]
  },
  {
   "cell_type": "code",
   "execution_count": 67,
   "metadata": {},
   "outputs": [
    {
     "name": "stdout",
     "output_type": "stream",
     "text": [
      "X_train sample values:\n",
      "[[[ 1.32785358]\n",
      "  [ 2.55850145]\n",
      "  [-0.45633622]\n",
      "  [ 2.07824046]\n",
      "  [-0.89821269]]\n",
      "\n",
      " [[ 2.55850145]\n",
      "  [-0.45633622]\n",
      "  [ 2.07824046]\n",
      "  [-0.89821269]\n",
      "  [ 0.84592933]]\n",
      "\n",
      " [[-0.45633622]\n",
      "  [ 2.07824046]\n",
      "  [-0.89821269]\n",
      "  [ 0.84592933]\n",
      "  [ 1.25823294]]\n",
      "\n",
      " [[ 2.07824046]\n",
      "  [-0.89821269]\n",
      "  [ 0.84592933]\n",
      "  [ 1.25823294]\n",
      "  [ 3.40237146]]\n",
      "\n",
      " [[-0.89821269]\n",
      "  [ 0.84592933]\n",
      "  [ 1.25823294]\n",
      "  [ 3.40237146]\n",
      "  [ 1.08727056]]] \n",
      "\n",
      "X_test sample values:\n",
      "[[[ 0.21430665]\n",
      "  [ 0.70265017]\n",
      "  [-0.81908946]\n",
      "  [ 1.65170788]\n",
      "  [ 0.67202188]]\n",
      "\n",
      " [[ 0.70265017]\n",
      "  [-0.81908946]\n",
      "  [ 1.65170788]\n",
      "  [ 0.67202188]\n",
      "  [-0.93653723]]\n",
      "\n",
      " [[-0.81908946]\n",
      "  [ 1.65170788]\n",
      "  [ 0.67202188]\n",
      "  [-0.93653723]\n",
      "  [ 0.03017075]]\n",
      "\n",
      " [[ 1.65170788]\n",
      "  [ 0.67202188]\n",
      "  [-0.93653723]\n",
      "  [ 0.03017075]\n",
      "  [ 0.14075949]]\n",
      "\n",
      " [[ 0.67202188]\n",
      "  [-0.93653723]\n",
      "  [ 0.03017075]\n",
      "  [ 0.14075949]\n",
      "  [-0.41164261]]]\n"
     ]
    }
   ],
   "source": [
    "# Reshape the features for the model\n",
    "X_train_lstm = X_train_lstm.reshape((X_train_lstm.shape[0], X_train_lstm.shape[1], 1))\n",
    "X_test_lstm = X_test_lstm.reshape((X_test_lstm.shape[0], X_test_lstm.shape[1], 1))\n",
    "print (f\"X_train sample values:\\n{X_train_lstm[:5]} \\n\")\n",
    "print (f\"X_test sample values:\\n{X_test_lstm[:5]}\")"
   ]
  },
  {
   "cell_type": "markdown",
   "metadata": {},
   "source": [
    "## Build and Train the LSTM RNN"
   ]
  },
  {
   "cell_type": "code",
   "execution_count": 68,
   "metadata": {},
   "outputs": [],
   "source": [
    "# Import required Keras modules\n",
    "from tensorflow.keras.models import Sequential\n",
    "from tensorflow.keras.layers import LSTM, Dense, Dropout\n"
   ]
  },
  {
   "cell_type": "code",
   "execution_count": 69,
   "metadata": {},
   "outputs": [],
   "source": [
    "# Define the LSTM RNN model.\n",
    "model = Sequential()\n",
    "\n",
    "number_units = 5\n",
    "dropout_fraction = 0.2\n",
    "\n",
    "# Layer 1\n",
    "model.add(LSTM(\n",
    "    units=number_units,\n",
    "    return_sequences=True,\n",
    "    input_shape=(X_train_lstm.shape[1], 1))\n",
    "    )\n",
    "model.add(Dropout(dropout_fraction))\n",
    "# Layer 2\n",
    "model.add(LSTM(units=number_units, return_sequences=True))\n",
    "model.add(Dropout(dropout_fraction))\n",
    "# Layer 3\n",
    "model.add(LSTM(units=number_units))\n",
    "model.add(Dropout(dropout_fraction))\n",
    "# Output layer\n",
    "model.add(Dense(1))"
   ]
  },
  {
   "cell_type": "code",
   "execution_count": 70,
   "metadata": {},
   "outputs": [],
   "source": [
    "# Compile the model\n",
    "model.compile(optimizer=\"adam\", loss=\"mean_squared_error\")"
   ]
  },
  {
   "cell_type": "code",
   "execution_count": 71,
   "metadata": {},
   "outputs": [
    {
     "name": "stdout",
     "output_type": "stream",
     "text": [
      "Model: \"sequential\"\n",
      "_________________________________________________________________\n",
      " Layer (type)                Output Shape              Param #   \n",
      "=================================================================\n",
      " lstm (LSTM)                 (None, 5, 5)              140       \n",
      "                                                                 \n",
      " dropout (Dropout)           (None, 5, 5)              0         \n",
      "                                                                 \n",
      " lstm_1 (LSTM)               (None, 5, 5)              220       \n",
      "                                                                 \n",
      " dropout_1 (Dropout)         (None, 5, 5)              0         \n",
      "                                                                 \n",
      " lstm_2 (LSTM)               (None, 5)                 220       \n",
      "                                                                 \n",
      " dropout_2 (Dropout)         (None, 5)                 0         \n",
      "                                                                 \n",
      " dense (Dense)               (None, 1)                 6         \n",
      "                                                                 \n",
      "=================================================================\n",
      "Total params: 586\n",
      "Trainable params: 586\n",
      "Non-trainable params: 0\n",
      "_________________________________________________________________\n"
     ]
    }
   ],
   "source": [
    "# Summarize the model\n",
    "model.summary()"
   ]
  },
  {
   "cell_type": "code",
   "execution_count": 72,
   "metadata": {},
   "outputs": [
    {
     "name": "stdout",
     "output_type": "stream",
     "text": [
      "Epoch 1/10\n",
      "3395/3395 [==============================] - 37s 9ms/step - loss: 5.7178\n",
      "Epoch 2/10\n",
      "3395/3395 [==============================] - 30s 9ms/step - loss: 5.7165\n",
      "Epoch 3/10\n",
      "3395/3395 [==============================] - 30s 9ms/step - loss: 5.7138\n",
      "Epoch 4/10\n",
      "3395/3395 [==============================] - 31s 9ms/step - loss: 5.7122\n",
      "Epoch 5/10\n",
      "3395/3395 [==============================] - 31s 9ms/step - loss: 5.7096\n",
      "Epoch 6/10\n",
      "3395/3395 [==============================] - 31s 9ms/step - loss: 5.7076\n",
      "Epoch 7/10\n",
      "3395/3395 [==============================] - 31s 9ms/step - loss: 5.7118\n",
      "Epoch 8/10\n",
      "3395/3395 [==============================] - 30s 9ms/step - loss: 5.7066\n",
      "Epoch 9/10\n",
      "3395/3395 [==============================] - 31s 9ms/step - loss: 5.7101\n",
      "Epoch 10/10\n",
      "3395/3395 [==============================] - 31s 9ms/step - loss: 5.6914\n"
     ]
    },
    {
     "data": {
      "text/plain": [
       "<keras.callbacks.History at 0x258886bb100>"
      ]
     },
     "execution_count": 72,
     "metadata": {},
     "output_type": "execute_result"
    }
   ],
   "source": [
    "# Train the model\n",
    "model.fit(X_train_lstm, y_train_lstm, epochs=10, shuffle=False, batch_size=1, verbose=1)"
   ]
  },
  {
   "cell_type": "markdown",
   "metadata": {},
   "source": [
    "## Model Performance"
   ]
  },
  {
   "cell_type": "code",
   "execution_count": 73,
   "metadata": {},
   "outputs": [
    {
     "name": "stdout",
     "output_type": "stream",
     "text": [
      "46/46 [==============================] - 3s 6ms/step - loss: 5.3153\n"
     ]
    },
    {
     "data": {
      "text/plain": [
       "5.3152594566345215"
      ]
     },
     "execution_count": 73,
     "metadata": {},
     "output_type": "execute_result"
    }
   ],
   "source": [
    "# Evaluate the model\n",
    "model.evaluate(X_test_lstm, y_test_lstm)"
   ]
  },
  {
   "cell_type": "code",
   "execution_count": 74,
   "metadata": {},
   "outputs": [],
   "source": [
    "# Make some predictions\n",
    "predicted = model.predict(X_test_lstm)"
   ]
  },
  {
   "cell_type": "markdown",
   "metadata": {},
   "source": [
    "### Plotting Predicted Vs. Real Prices"
   ]
  },
  {
   "cell_type": "code",
   "execution_count": 75,
   "metadata": {},
   "outputs": [],
   "source": [
    "predicted_prices = predicted\n",
    "real_prices = y_test_lstm"
   ]
  },
  {
   "cell_type": "code",
   "execution_count": 76,
   "metadata": {},
   "outputs": [
    {
     "data": {
      "text/html": [
       "<div>\n",
       "<style scoped>\n",
       "    .dataframe tbody tr th:only-of-type {\n",
       "        vertical-align: middle;\n",
       "    }\n",
       "\n",
       "    .dataframe tbody tr th {\n",
       "        vertical-align: top;\n",
       "    }\n",
       "\n",
       "    .dataframe thead th {\n",
       "        text-align: right;\n",
       "    }\n",
       "</style>\n",
       "<table border=\"1\" class=\"dataframe\">\n",
       "  <thead>\n",
       "    <tr style=\"text-align: right;\">\n",
       "      <th></th>\n",
       "      <th>Actual</th>\n",
       "      <th>Predicted</th>\n",
       "    </tr>\n",
       "    <tr>\n",
       "      <th>Date</th>\n",
       "      <th></th>\n",
       "      <th></th>\n",
       "    </tr>\n",
       "  </thead>\n",
       "  <tbody>\n",
       "    <tr>\n",
       "      <th>2014-03-20</th>\n",
       "      <td>-0.936537</td>\n",
       "      <td>0.070087</td>\n",
       "    </tr>\n",
       "    <tr>\n",
       "      <th>2014-03-21</th>\n",
       "      <td>0.030171</td>\n",
       "      <td>0.068458</td>\n",
       "    </tr>\n",
       "    <tr>\n",
       "      <th>2014-03-24</th>\n",
       "      <td>0.140759</td>\n",
       "      <td>0.071669</td>\n",
       "    </tr>\n",
       "    <tr>\n",
       "      <th>2014-03-25</th>\n",
       "      <td>-0.411643</td>\n",
       "      <td>0.066088</td>\n",
       "    </tr>\n",
       "    <tr>\n",
       "      <th>2014-03-26</th>\n",
       "      <td>1.078737</td>\n",
       "      <td>0.077789</td>\n",
       "    </tr>\n",
       "  </tbody>\n",
       "</table>\n",
       "</div>"
      ],
      "text/plain": [
       "              Actual  Predicted\n",
       "Date                           \n",
       "2014-03-20 -0.936537   0.070087\n",
       "2014-03-21  0.030171   0.068458\n",
       "2014-03-24  0.140759   0.071669\n",
       "2014-03-25 -0.411643   0.066088\n",
       "2014-03-26  1.078737   0.077789"
      ]
     },
     "execution_count": 76,
     "metadata": {},
     "output_type": "execute_result"
    }
   ],
   "source": [
    "# Create a DataFrame of Real and Predicted values\n",
    "stocks = pd.DataFrame({\n",
    "    \"Actual\": real_prices.ravel(),\n",
    "    \"Predicted\": predicted_prices.ravel()\n",
    "}, index = df.index[-len(real_prices): ]) \n",
    "\n",
    "# Show the DataFrame's head\n",
    "stocks.head()"
   ]
  },
  {
   "cell_type": "code",
   "execution_count": 77,
   "metadata": {},
   "outputs": [
    {
     "data": {
      "text/plain": [
       "<AxesSubplot:xlabel='Date'>"
      ]
     },
     "execution_count": 77,
     "metadata": {},
     "output_type": "execute_result"
    },
    {
     "data": {
      "image/png": "[encoded data removed]",
      "text/plain": [
       "<Figure size 432x288 with 1 Axes>"
      ]
     },
     "metadata": {
      "needs_background": "light"
     },
     "output_type": "display_data"
    }
   ],
   "source": [
    "# Plot the real vs predicted prices as a line chart\n",
    "stocks.plot()"
   ]
  },
  {
   "cell_type": "markdown",
   "metadata": {},
   "source": [
    "---"
   ]
  },
  {
   "cell_type": "markdown",
   "metadata": {},
   "source": []
  },
  {
   "cell_type": "markdown",
   "metadata": {},
   "source": []
  },
  {
   "cell_type": "code",
   "execution_count": null,
   "metadata": {},
   "outputs": [],
   "source": []
  },
  {
   "cell_type": "code",
   "execution_count": null,
   "metadata": {},
   "outputs": [],
   "source": []
  },
  {
   "cell_type": "markdown",
   "metadata": {},
   "source": []
  },
  {
   "cell_type": "code",
   "execution_count": null,
   "metadata": {},
   "outputs": [],
   "source": []
  },
  {
   "cell_type": "markdown",
   "metadata": {},
   "source": [
    "\n"
   ]
  },
  {
   "cell_type": "markdown",
   "metadata": {},
   "source": [
    "---"
   ]
  },
  {
   "cell_type": "markdown",
   "metadata": {},
   "source": [
    "---"
   ]
  },
  {
   "cell_type": "markdown",
   "metadata": {},
   "source": [
    "# Conclusions"
   ]
  },
  {
   "cell_type": "markdown",
   "metadata": {},
   "source": []
  },
  {
   "cell_type": "code",
   "execution_count": null,
   "metadata": {},
   "outputs": [],
   "source": []
  }
 ],
 "metadata": {
  "file_extension": ".py",
  "kernelspec": {
   "display_name": "Python 3",
   "language": "python",
   "name": "python3"
  },
  "language_info": {
   "codemirror_mode": {
    "name": "ipython",
    "version": 3
   },
   "file_extension": ".py",
   "mimetype": "text/x-python",
   "name": "python",
   "nbconvert_exporter": "python",
   "pygments_lexer": "ipython3",
   "version": "3.8.8"
  },
  "mimetype": "text/x-python",
  "name": "python",
  "npconvert_exporter": "python",
  "pygments_lexer": "ipython3",
  "version": 3
 },
 "nbformat": 4,
 "nbformat_minor": 4
}
